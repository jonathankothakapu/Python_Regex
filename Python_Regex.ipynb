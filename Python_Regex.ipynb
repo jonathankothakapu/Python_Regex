{
 "cells": [
  {
   "cell_type": "markdown",
   "id": "c27d566a",
   "metadata": {},
   "source": [
    "# Regular Expressions in Python"
   ]
  },
  {
   "cell_type": "markdown",
   "id": "4ac37fe7",
   "metadata": {},
   "source": [
    "Reference:  https://www.youtube.com/watch?v=K8L6KVGG-7o   \n",
    "Corey Schafer YouTube Channel."
   ]
  },
  {
   "cell_type": "code",
   "execution_count": 1,
   "id": "f3b49bdb",
   "metadata": {
    "scrolled": true
   },
   "outputs": [],
   "source": [
    "# import regex  - regular expression library\n",
    "import re"
   ]
  },
  {
   "cell_type": "code",
   "execution_count": 2,
   "id": "f8ece77e",
   "metadata": {
    "scrolled": true
   },
   "outputs": [
    {
     "name": "stdout",
     "output_type": "stream",
     "text": [
      "\tTab\n",
      "\\tTab\n"
     ]
    }
   ],
   "source": [
    "#Understand raw string \n",
    "print('\\tTab')\n",
    "print(r'\\tTab') #r = raw"
   ]
  },
  {
   "cell_type": "markdown",
   "id": "a9b00169",
   "metadata": {},
   "source": [
    "# --------------------------------------------------------------------------"
   ]
  },
  {
   "cell_type": "markdown",
   "id": "9f3b5721",
   "metadata": {},
   "source": [
    "## Snippets  \n",
    "  \n",
    ".    $\\qquad$     - Any Character Except New Line  \n",
    "\\d   $\\qquad$    - Digit (0-9)  \n",
    "\\D   $\\qquad$   - Not a Digit (0-9)  \n",
    "\\w   $\\qquad$   - Word Character (a-z, A-Z, 0-9, _)  \n",
    "\\W   $\\qquad$   - Not a Word Character  \n",
    "\\s   $\\qquad$  - Whitespace (space, tab, newline)  \n",
    "\\S   $\\qquad$   - Not Whitespace (space, tab, newline)  \n",
    "  \n",
    "\\b   $\\qquad$   - Word Boundary  \n",
    "\\B   $\\qquad$   - Not a Word Boundary  \n",
    "^    $\\qquad$   - Beginning of a String  \n",
    "$     - End of a String  \n",
    "  \n",
    "[]   $\\qquad$  - Matches Characters in brackets  \n",
    "[^ ]  $\\qquad$   - Matches Characters NOT in brackets  \n",
    "|    $\\qquad$   - Either Or  \n",
    "( )  $\\qquad$   - Group  \n",
    "  \n",
    "Quantifiers:  \n",
    "*    $\\qquad$   - 0 or More  \n",
    "+    $\\qquad$   - 1 or More  \n",
    "?    $\\qquad$   - 0 or One  \n",
    "{3}  $\\qquad$   - Exact Number  \n",
    "{3,4}$\\qquad$   - Range of Numbers (Minimum, Maximum)  \n",
    "  \n",
    "  \n",
    "#### Sample Regexs ####  \n",
    "  \n",
    "[a-zA-Z0-9_.+-]+@[a-zA-Z0-9-]+\\.[a-zA-Z0-9-.]+  \n",
    "  "
   ]
  },
  {
   "cell_type": "markdown",
   "id": "b0957b6b",
   "metadata": {},
   "source": [
    "#  -----------------------------------------------------------------------------------------"
   ]
  },
  {
   "cell_type": "code",
   "execution_count": 5,
   "id": "423bed89",
   "metadata": {
    "scrolled": true
   },
   "outputs": [],
   "source": [
    "text_to_search = '''\n",
    "abcdefghijklmnopqurtuvwxyz\n",
    "ABCDEFGHIJKLMNOPQRSTUVWXYZ\n",
    "1234567890\n",
    "Ha HaHa\n",
    "MetaCharacters (Need to be escaped):\n",
    ". ^ $ * + ? { } [ ] \\ | ( )\n",
    "coreyms.com\n",
    "321-555-4321\n",
    "123.555.1234\n",
    "123*555*1234\n",
    "800-555-1234\n",
    "900-555-1234\n",
    "Mr. Schafer\n",
    "Mr Smith\n",
    "Ms Davis\n",
    "Mrs. Robinson\n",
    "Mr. T\n",
    "'''"
   ]
  },
  {
   "cell_type": "code",
   "execution_count": 7,
   "id": "916b79d7",
   "metadata": {
    "scrolled": true
   },
   "outputs": [],
   "source": [
    "sentence = 'Start a sentence and then bring it to an end'"
   ]
  },
  {
   "cell_type": "code",
   "execution_count": 8,
   "id": "8b85ee51",
   "metadata": {
    "scrolled": true
   },
   "outputs": [],
   "source": [
    "pattern = re.compile(r'abc')       #case and order sensitive\n",
    "matches = pattern.finditer(text_to_search)"
   ]
  },
  {
   "cell_type": "code",
   "execution_count": 9,
   "id": "1eb6d81e",
   "metadata": {
    "scrolled": true
   },
   "outputs": [
    {
     "name": "stdout",
     "output_type": "stream",
     "text": [
      "<re.Match object; span=(1, 4), match='abc'>\n"
     ]
    }
   ],
   "source": [
    "for match in matches:\n",
    "    print(match)                #it gives index of string which it matches"
   ]
  },
  {
   "cell_type": "code",
   "execution_count": 10,
   "id": "04790c00",
   "metadata": {
    "scrolled": true
   },
   "outputs": [
    {
     "data": {
      "text/plain": [
       "'abc'"
      ]
     },
     "execution_count": 10,
     "metadata": {},
     "output_type": "execute_result"
    }
   ],
   "source": [
    "text_to_search[1:4]"
   ]
  },
  {
   "cell_type": "markdown",
   "id": "b28cccf6",
   "metadata": {},
   "source": [
    "# ------------------------------------------------------------------------"
   ]
  },
  {
   "cell_type": "code",
   "execution_count": 11,
   "id": "515ab134",
   "metadata": {
    "scrolled": true
   },
   "outputs": [],
   "source": [
    "#match phone numbers\n",
    "pattern = re.compile(r'\\d{3}.\\d{3}.\\d{4}')       #case and order sensitive\n",
    "matches = pattern.finditer(text_to_search)"
   ]
  },
  {
   "cell_type": "code",
   "execution_count": 12,
   "id": "3ba0f17e",
   "metadata": {
    "scrolled": true
   },
   "outputs": [
    {
     "name": "stdout",
     "output_type": "stream",
     "text": [
      "<re.Match object; span=(151, 163), match='321-555-4321'>\n",
      "<re.Match object; span=(164, 176), match='123.555.1234'>\n",
      "<re.Match object; span=(177, 189), match='123*555*1234'>\n",
      "<re.Match object; span=(190, 202), match='800-555-1234'>\n",
      "<re.Match object; span=(203, 215), match='900-555-1234'>\n"
     ]
    }
   ],
   "source": [
    "for match in matches:\n",
    "    print(match) "
   ]
  },
  {
   "cell_type": "markdown",
   "id": "6cf20404",
   "metadata": {},
   "source": [
    "# ------------------------------------------------------"
   ]
  },
  {
   "cell_type": "code",
   "execution_count": 16,
   "id": "a41fa70d",
   "metadata": {
    "scrolled": true
   },
   "outputs": [],
   "source": [
    "# match phone no.s starting with either 800 or 900\n",
    "pattern1 = re.compile(r'[89]00.\\d{3}.\\d{4}')\n",
    "matches1 = pattern1.finditer(text_to_search)"
   ]
  },
  {
   "cell_type": "code",
   "execution_count": 17,
   "id": "e00b375b",
   "metadata": {
    "scrolled": true
   },
   "outputs": [
    {
     "name": "stdout",
     "output_type": "stream",
     "text": [
      "<re.Match object; span=(190, 202), match='800-555-1234'>\n",
      "<re.Match object; span=(203, 215), match='900-555-1234'>\n"
     ]
    }
   ],
   "source": [
    "for match in matches1:\n",
    "    print(match) "
   ]
  },
  {
   "cell_type": "markdown",
   "id": "d7c2a571",
   "metadata": {},
   "source": [
    "# --------------------------------------------"
   ]
  },
  {
   "cell_type": "code",
   "execution_count": 13,
   "id": "5dc07be1",
   "metadata": {
    "scrolled": true
   },
   "outputs": [
    {
     "name": "stdout",
     "output_type": "stream",
     "text": [
      "<re.Match object; span=(12, 24), match='615-555-7164'>\n",
      "<re.Match object; span=(102, 114), match='800-555-5669'>\n",
      "<re.Match object; span=(191, 203), match='560-555-5153'>\n",
      "<re.Match object; span=(281, 293), match='900-555-9340'>\n",
      "<re.Match object; span=(378, 390), match='714-555-7405'>\n",
      "<re.Match object; span=(467, 479), match='800-555-6771'>\n",
      "<re.Match object; span=(557, 569), match='783-555-4799'>\n",
      "<re.Match object; span=(647, 659), match='516-555-4615'>\n",
      "<re.Match object; span=(740, 752), match='127-555-1867'>\n",
      "<re.Match object; span=(831, 843), match='608-555-4938'>\n",
      "<re.Match object; span=(917, 929), match='568-555-6051'>\n",
      "<re.Match object; span=(1005, 1017), match='292-555-1875'>\n",
      "<re.Match object; span=(1093, 1105), match='900-555-3205'>\n",
      "<re.Match object; span=(1182, 1194), match='614-555-1166'>\n",
      "<re.Match object; span=(1273, 1285), match='530-555-2676'>\n",
      "<re.Match object; span=(1359, 1371), match='470-555-2750'>\n",
      "<re.Match object; span=(1443, 1455), match='800-555-6089'>\n",
      "<re.Match object; span=(1530, 1542), match='880-555-8319'>\n",
      "<re.Match object; span=(1618, 1630), match='777-555-8378'>\n",
      "<re.Match object; span=(1701, 1713), match='998-555-7385'>\n",
      "<re.Match object; span=(1794, 1806), match='800-555-7100'>\n",
      "<re.Match object; span=(1878, 1890), match='903-555-8277'>\n",
      "<re.Match object; span=(1966, 1978), match='196-555-5674'>\n",
      "<re.Match object; span=(2055, 2067), match='900-555-5118'>\n",
      "<re.Match object; span=(2139, 2151), match='905-555-1630'>\n",
      "<re.Match object; span=(2220, 2232), match='203-555-3475'>\n",
      "<re.Match object; span=(2304, 2316), match='884-555-8444'>\n",
      "<re.Match object; span=(2391, 2403), match='904-555-8559'>\n",
      "<re.Match object; span=(2479, 2491), match='889-555-7393'>\n",
      "<re.Match object; span=(2566, 2578), match='195-555-2405'>\n",
      "<re.Match object; span=(2651, 2663), match='321-555-9053'>\n",
      "<re.Match object; span=(2738, 2750), match='133-555-1711'>\n",
      "<re.Match object; span=(2830, 2842), match='900-555-5428'>\n",
      "<re.Match object; span=(2919, 2931), match='760-555-7147'>\n",
      "<re.Match object; span=(3018, 3030), match='391-555-6621'>\n",
      "<re.Match object; span=(3109, 3121), match='932-555-7724'>\n",
      "<re.Match object; span=(3198, 3210), match='609-555-7908'>\n",
      "<re.Match object; span=(3290, 3302), match='800-555-8810'>\n",
      "<re.Match object; span=(3378, 3390), match='149-555-7657'>\n",
      "<re.Match object; span=(3458, 3470), match='130-555-9709'>\n",
      "<re.Match object; span=(3541, 3553), match='143-555-9295'>\n",
      "<re.Match object; span=(3630, 3642), match='903-555-9878'>\n",
      "<re.Match object; span=(3720, 3732), match='574-555-3194'>\n",
      "<re.Match object; span=(3808, 3820), match='496-555-7533'>\n",
      "<re.Match object; span=(3893, 3905), match='210-555-3757'>\n",
      "<re.Match object; span=(3977, 3989), match='900-555-9598'>\n",
      "<re.Match object; span=(4062, 4074), match='866-555-9844'>\n",
      "<re.Match object; span=(4146, 4158), match='669-555-7159'>\n",
      "<re.Match object; span=(4231, 4243), match='152-555-7417'>\n",
      "<re.Match object; span=(4323, 4335), match='893-555-9832'>\n",
      "<re.Match object; span=(4413, 4425), match='217-555-7123'>\n",
      "<re.Match object; span=(4504, 4516), match='786-555-6544'>\n",
      "<re.Match object; span=(4594, 4606), match='780-555-2574'>\n",
      "<re.Match object; span=(4682, 4694), match='926-555-8735'>\n",
      "<re.Match object; span=(4768, 4780), match='895-555-3539'>\n",
      "<re.Match object; span=(4865, 4877), match='874-555-3949'>\n",
      "<re.Match object; span=(4951, 4963), match='800-555-2420'>\n",
      "<re.Match object; span=(5040, 5052), match='936-555-6340'>\n",
      "<re.Match object; span=(5129, 5141), match='372-555-9809'>\n",
      "<re.Match object; span=(5216, 5228), match='890-555-5618'>\n",
      "<re.Match object; span=(5298, 5310), match='670-555-3005'>\n",
      "<re.Match object; span=(5388, 5400), match='509-555-5997'>\n",
      "<re.Match object; span=(5481, 5493), match='721-555-5632'>\n",
      "<re.Match object; span=(5572, 5584), match='900-555-3567'>\n",
      "<re.Match object; span=(5662, 5674), match='147-555-6830'>\n",
      "<re.Match object; span=(5751, 5763), match='582-555-3426'>\n",
      "<re.Match object; span=(5836, 5848), match='400-555-1706'>\n",
      "<re.Match object; span=(5927, 5939), match='525-555-1793'>\n",
      "<re.Match object; span=(6017, 6029), match='317-555-6700'>\n",
      "<re.Match object; span=(6105, 6117), match='974-555-8301'>\n",
      "<re.Match object; span=(6195, 6207), match='800-555-3216'>\n",
      "<re.Match object; span=(6281, 6293), match='746-555-4094'>\n",
      "<re.Match object; span=(6368, 6380), match='922-555-1773'>\n",
      "<re.Match object; span=(6453, 6465), match='711-555-4427'>\n",
      "<re.Match object; span=(6538, 6550), match='355-555-1872'>\n",
      "<re.Match object; span=(6627, 6639), match='852-555-6521'>\n",
      "<re.Match object; span=(6719, 6731), match='691-555-5773'>\n",
      "<re.Match object; span=(6811, 6823), match='332-555-5441'>\n",
      "<re.Match object; span=(6897, 6909), match='900-555-7755'>\n",
      "<re.Match object; span=(6979, 6991), match='379-555-3685'>\n",
      "<re.Match object; span=(7069, 7081), match='127-555-9682'>\n",
      "<re.Match object; span=(7160, 7172), match='789-555-7032'>\n",
      "<re.Match object; span=(7251, 7263), match='783-555-5135'>\n",
      "<re.Match object; span=(7344, 7356), match='315-555-6507'>\n",
      "<re.Match object; span=(7435, 7447), match='481-555-5835'>\n",
      "<re.Match object; span=(7523, 7535), match='365-555-8287'>\n",
      "<re.Match object; span=(7615, 7627), match='911-555-7535'>\n",
      "<re.Match object; span=(7701, 7713), match='681-555-2460'>\n",
      "<re.Match object; span=(7787, 7799), match='274-555-9800'>\n",
      "<re.Match object; span=(7872, 7884), match='800-555-1372'>\n",
      "<re.Match object; span=(7961, 7973), match='300-555-7821'>\n",
      "<re.Match object; span=(8051, 8063), match='133-555-3889'>\n",
      "<re.Match object; span=(8139, 8151), match='705-555-6863'>\n",
      "<re.Match object; span=(8228, 8240), match='215-555-9449'>\n",
      "<re.Match object; span=(8319, 8331), match='988-555-6112'>\n",
      "<re.Match object; span=(8405, 8417), match='623-555-3006'>\n",
      "<re.Match object; span=(8489, 8501), match='192-555-4977'>\n",
      "<re.Match object; span=(8574, 8586), match='178-555-4899'>\n",
      "<re.Match object; span=(8658, 8670), match='952-555-3089'>\n",
      "<re.Match object; span=(8751, 8763), match='900-555-6426'>\n"
     ]
    }
   ],
   "source": [
    "# opening data.txt, read and match text from it\n",
    "\n",
    "with open('data.txt','r') as f:\n",
    "    contents = f.read()\n",
    "    \n",
    "    matches = pattern.finditer(contents)    #using regex of pattern defined above\n",
    "    \n",
    "    for match in matches:\n",
    "        print(match)"
   ]
  },
  {
   "cell_type": "markdown",
   "id": "551f775f",
   "metadata": {},
   "source": [
    "# ------------------------------------------------------------------"
   ]
  },
  {
   "cell_type": "code",
   "execution_count": 25,
   "id": "fe498742",
   "metadata": {},
   "outputs": [
    {
     "name": "stdout",
     "output_type": "stream",
     "text": [
      "<re.Match object; span=(216, 227), match='Mr. Schafer'>\n",
      "<re.Match object; span=(228, 236), match='Mr Smith'>\n",
      "<re.Match object; span=(237, 245), match='Ms Davis'>\n",
      "<re.Match object; span=(246, 259), match='Mrs. Robinson'>\n",
      "<re.Match object; span=(260, 265), match='Mr. T'>\n"
     ]
    }
   ],
   "source": [
    "# matching names in text_to_search (present at the bottom)\n",
    "\n",
    "#pattern2 = re.compile(r'Mr\\.?\\s[A-Z]\\w*')  #for names with Mr\n",
    "pattern2 = re.compile(r'M(r|s|rs)\\.?\\s[A-Z]\\w*')  #for all names, also did grouping\n",
    "matches2 = pattern2.finditer(text_to_search)\n",
    "\n",
    "for match in matches2:\n",
    "    print(match) "
   ]
  },
  {
   "cell_type": "markdown",
   "id": "e1720bc8",
   "metadata": {},
   "source": [
    "# ---------------------------------------------------------------------------------------   \n",
    "  \n",
    "## Emails"
   ]
  },
  {
   "cell_type": "code",
   "execution_count": 26,
   "id": "5f42c297",
   "metadata": {},
   "outputs": [],
   "source": [
    "emails = '''\n",
    "CoreyMSchafer@gmail.com\n",
    "corey.schafer@university.edu\n",
    "corey-321-schafer@my-work.net\n",
    "'''"
   ]
  },
  {
   "cell_type": "code",
   "execution_count": 31,
   "id": "06261d36",
   "metadata": {},
   "outputs": [
    {
     "name": "stdout",
     "output_type": "stream",
     "text": [
      "<re.Match object; span=(1, 24), match='CoreyMSchafer@gmail.com'>\n",
      "<re.Match object; span=(25, 53), match='corey.schafer@university.edu'>\n",
      "<re.Match object; span=(54, 83), match='corey-321-schafer@my-work.net'>\n"
     ]
    }
   ],
   "source": [
    "#pattern3 = re.compile(r'[A-za-z0-9-.]*@([\\w-]+)\\.(\\w+)')  #for all emails\n",
    "pattern3 = re.compile(r'[a-zA-Z0-9_.+-]+@[a-zA-Z0-9-]+.[a-zA-Z0-9-.]+')   #from internet for emails\n",
    "matches3 = pattern3.finditer(emails)\n",
    "\n",
    "for match in matches3:\n",
    "    print(match) "
   ]
  },
  {
   "cell_type": "markdown",
   "id": "6feeabd2",
   "metadata": {},
   "source": [
    "# -----------------------------------------------------------------------------------"
   ]
  },
  {
   "cell_type": "markdown",
   "id": "f3bd0460",
   "metadata": {},
   "source": [
    "# Urls  \n",
    "   "
   ]
  },
  {
   "cell_type": "code",
   "execution_count": 33,
   "id": "38a8dd0a",
   "metadata": {},
   "outputs": [],
   "source": [
    "urls = '''\n",
    "https://www.google.com\n",
    "http://coreyms.com\n",
    "https://youtube.com\n",
    "https://www.nasa.gov\n",
    "'''"
   ]
  },
  {
   "cell_type": "code",
   "execution_count": 41,
   "id": "86618b00",
   "metadata": {},
   "outputs": [
    {
     "name": "stdout",
     "output_type": "stream",
     "text": [
      "https://www.google.com\n",
      "www.\n",
      "google\n",
      ".com\n",
      "http://coreyms.com\n",
      "None\n",
      "coreyms\n",
      ".com\n",
      "https://youtube.com\n",
      "None\n",
      "youtube\n",
      ".com\n",
      "https://www.nasa.gov\n",
      "www.\n",
      "nasa\n",
      ".gov\n"
     ]
    }
   ],
   "source": [
    "pattern4 = re.compile(r'https?://(www\\.)?(\\w+)(\\.\\w+)')   #we have grouped domain(like google,nasa) and top level domain (.gov,.com, .edu)\n",
    "matches4 = pattern4.finditer(urls)\n",
    "\n",
    "for match in matches4:\n",
    "    for i in range(4):\n",
    "        print(match.group(i))       #group(0) is entire match, group(1) is optional (www.), group(2) is domain name\n",
    "    \n",
    "#for match in matches4:\n",
    "#    print(match.group(1))         #calling only a specific group"
   ]
  },
  {
   "cell_type": "code",
   "execution_count": 42,
   "id": "713379af",
   "metadata": {},
   "outputs": [
    {
     "name": "stdout",
     "output_type": "stream",
     "text": [
      "\n",
      "google.com\n",
      "coreyms.com\n",
      "youtube.com\n",
      "nasa.gov\n",
      "\n"
     ]
    }
   ],
   "source": [
    "# suppose you want to domain names in a column. Use\n",
    "subbed_urls = pattern4.sub(r'\\2\\3',urls)\n",
    "print(subbed_urls)"
   ]
  },
  {
   "cell_type": "markdown",
   "id": "2584034e",
   "metadata": {},
   "source": [
    "# -------------------------------------------------------------------------------"
   ]
  },
  {
   "cell_type": "markdown",
   "id": "bb62a327",
   "metadata": {},
   "source": [
    "## pattern.findall()  \n",
    "  \n",
    "returns the matches"
   ]
  },
  {
   "cell_type": "code",
   "execution_count": 46,
   "id": "077e9a9e",
   "metadata": {},
   "outputs": [
    {
     "name": "stdout",
     "output_type": "stream",
     "text": [
      "800-555-1234\n",
      "900-555-1234\n"
     ]
    }
   ],
   "source": [
    "pattern1 = re.compile(r'[89]00.\\d{3}.\\d{4}')\n",
    "matches1 = pattern1.findall(text_to_search)    # .findall()\n",
    "\n",
    "for match in matches1:\n",
    "    print(match) "
   ]
  },
  {
   "cell_type": "code",
   "execution_count": 47,
   "id": "b918138e",
   "metadata": {},
   "outputs": [
    {
     "name": "stdout",
     "output_type": "stream",
     "text": [
      "('800', '555', '1234')\n",
      "('900', '555', '1234')\n"
     ]
    }
   ],
   "source": [
    "# If in groups\n",
    "pattern1 = re.compile(r'([89]00).(\\d{3}).(\\d{4})')\n",
    "matches1 = pattern1.findall(text_to_search)    # .findall()\n",
    "\n",
    "for match in matches1:\n",
    "    print(match)                 #returns in tuples containing only the groups (here it omitted hyphen in between \n",
    "                                #because it is not in group we defined)"
   ]
  },
  {
   "cell_type": "markdown",
   "id": "a9dfb0c8",
   "metadata": {},
   "source": [
    "### .search    -- searches entire string but returns only first matched value\n",
    "### .match  -- searches only at start of string\n"
   ]
  },
  {
   "cell_type": "code",
   "execution_count": 49,
   "id": "37449c18",
   "metadata": {},
   "outputs": [
    {
     "name": "stdout",
     "output_type": "stream",
     "text": [
      "<re.Match object; span=(6, 14), match='sentence'>\n"
     ]
    }
   ],
   "source": [
    "sentence1 = 'Start sentence and sentence end'\n",
    "pattern5 = re.compile(r'sentence')\n",
    "matches5 = pattern5.search(sentence1)\n",
    "\n",
    "print(matches5)"
   ]
  },
  {
   "cell_type": "code",
   "execution_count": 54,
   "id": "0ce3b80e",
   "metadata": {},
   "outputs": [
    {
     "name": "stdout",
     "output_type": "stream",
     "text": [
      "<re.Match object; span=(0, 5), match='Start'>\n"
     ]
    }
   ],
   "source": [
    "pattern6 = re.compile(r'start', re.IGNORECASE)    #re.I also works to make case insensitivity\n",
    "matches6 = pattern6.match(sentence1)\n",
    "\n",
    "print(matches6)"
   ]
  },
  {
   "cell_type": "markdown",
   "id": "a71006c9",
   "metadata": {},
   "source": [
    "# --------------------------------------------------------------------------------------------------"
   ]
  },
  {
   "cell_type": "code",
   "execution_count": 57,
   "id": "ccb7b8d7",
   "metadata": {},
   "outputs": [],
   "source": [
    "# There exists even advanced features for Regular expressions in python"
   ]
  }
 ],
 "metadata": {
  "kernelspec": {
   "display_name": "Python 3 (ipykernel)",
   "language": "python",
   "name": "python3"
  },
  "language_info": {
   "codemirror_mode": {
    "name": "ipython",
    "version": 3
   },
   "file_extension": ".py",
   "mimetype": "text/x-python",
   "name": "python",
   "nbconvert_exporter": "python",
   "pygments_lexer": "ipython3",
   "version": "3.9.7"
  }
 },
 "nbformat": 4,
 "nbformat_minor": 5
}
